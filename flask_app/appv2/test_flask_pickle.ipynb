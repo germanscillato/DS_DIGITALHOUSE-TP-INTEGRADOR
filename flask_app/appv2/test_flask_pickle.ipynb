{
 "cells": [
  {
   "cell_type": "code",
   "execution_count": 1,
   "metadata": {},
   "outputs": [],
   "source": [
    "import pandas as pd\n",
    "from sklearn.model_selection import train_test_split\n",
    "import os\n",
    "from nltk import RegexpTokenizer\n",
    "from nltk.stem.snowball import SnowballStemmer\n",
    "from nltk.corpus import stopwords\n",
    "from nltk.stem import PorterStemmer\n",
    "from nltk.stem import LancasterStemmer\n",
    "from nltk.tokenize import word_tokenize\n",
    "from sklearn.feature_extraction.text import TfidfTransformer\n",
    "import re\n",
    "from sklearn.feature_extraction.text import CountVectorizer\n",
    "from os import path\n",
    "from PIL import Image\n",
    "import matplotlib.pyplot as plt\n",
    "import numpy as np\n",
    "from tqdm import tqdm\n",
    "from sklearn.linear_model import LogisticRegression\n",
    "from sklearn.metrics import accuracy_score, confusion_matrix\n",
    "from matplotlib.colors import ListedColormap, LinearSegmentedColormap\n",
    "import seaborn as sns\n",
    "from sklearn.naive_bayes import MultinomialNB\n",
    "from sklearn.decomposition import TruncatedSVD\n",
    "from lime.lime_tabular import LimeTabularExplainer\n",
    "import requests\n",
    "import warnings\n",
    "from xgboost import XGBClassifier\n",
    "from sklearn.model_selection import cross_val_score, StratifiedKFold\n",
    "from sklearn.ensemble import AdaBoostClassifier, GradientBoostingClassifier\n",
    "from sklearn.ensemble import ExtraTreesClassifier\n",
    "from sklearn.ensemble import RandomForestClassifier\n",
    "from sklearn import tree\n",
    "from selenium import webdriver\n",
    "from selenium.webdriver.chrome.service import Service\n",
    "from bs4 import BeautifulSoup\n",
    "import time "
   ]
  },
  {
   "cell_type": "code",
   "execution_count": 2,
   "metadata": {},
   "outputs": [
    {
     "data": {
      "text/html": [
       "<div>\n",
       "<style scoped>\n",
       "    .dataframe tbody tr th:only-of-type {\n",
       "        vertical-align: middle;\n",
       "    }\n",
       "\n",
       "    .dataframe tbody tr th {\n",
       "        vertical-align: top;\n",
       "    }\n",
       "\n",
       "    .dataframe thead th {\n",
       "        text-align: right;\n",
       "    }\n",
       "</style>\n",
       "<table border=\"1\" class=\"dataframe\">\n",
       "  <thead>\n",
       "    <tr style=\"text-align: right;\">\n",
       "      <th></th>\n",
       "      <th>title</th>\n",
       "      <th>text</th>\n",
       "      <th>subject</th>\n",
       "      <th>date</th>\n",
       "      <th>real</th>\n",
       "    </tr>\n",
       "  </thead>\n",
       "  <tbody>\n",
       "    <tr>\n",
       "      <th>0</th>\n",
       "      <td>Donald Trump Sends Out Embarrassing New Year’...</td>\n",
       "      <td>Donald Trump just couldn t wish all Americans ...</td>\n",
       "      <td>News</td>\n",
       "      <td>December 31, 2017</td>\n",
       "      <td>Fake</td>\n",
       "    </tr>\n",
       "    <tr>\n",
       "      <th>1</th>\n",
       "      <td>Drunk Bragging Trump Staffer Started Russian ...</td>\n",
       "      <td>House Intelligence Committee Chairman Devin Nu...</td>\n",
       "      <td>News</td>\n",
       "      <td>December 31, 2017</td>\n",
       "      <td>Fake</td>\n",
       "    </tr>\n",
       "    <tr>\n",
       "      <th>2</th>\n",
       "      <td>Sheriff David Clarke Becomes An Internet Joke...</td>\n",
       "      <td>On Friday, it was revealed that former Milwauk...</td>\n",
       "      <td>News</td>\n",
       "      <td>December 30, 2017</td>\n",
       "      <td>Fake</td>\n",
       "    </tr>\n",
       "    <tr>\n",
       "      <th>3</th>\n",
       "      <td>Trump Is So Obsessed He Even Has Obama’s Name...</td>\n",
       "      <td>On Christmas day, Donald Trump announced that ...</td>\n",
       "      <td>News</td>\n",
       "      <td>December 29, 2017</td>\n",
       "      <td>Fake</td>\n",
       "    </tr>\n",
       "    <tr>\n",
       "      <th>4</th>\n",
       "      <td>Pope Francis Just Called Out Donald Trump Dur...</td>\n",
       "      <td>Pope Francis used his annual Christmas Day mes...</td>\n",
       "      <td>News</td>\n",
       "      <td>December 25, 2017</td>\n",
       "      <td>Fake</td>\n",
       "    </tr>\n",
       "  </tbody>\n",
       "</table>\n",
       "</div>"
      ],
      "text/plain": [
       "                                               title  \\\n",
       "0   Donald Trump Sends Out Embarrassing New Year’...   \n",
       "1   Drunk Bragging Trump Staffer Started Russian ...   \n",
       "2   Sheriff David Clarke Becomes An Internet Joke...   \n",
       "3   Trump Is So Obsessed He Even Has Obama’s Name...   \n",
       "4   Pope Francis Just Called Out Donald Trump Dur...   \n",
       "\n",
       "                                                text subject  \\\n",
       "0  Donald Trump just couldn t wish all Americans ...    News   \n",
       "1  House Intelligence Committee Chairman Devin Nu...    News   \n",
       "2  On Friday, it was revealed that former Milwauk...    News   \n",
       "3  On Christmas day, Donald Trump announced that ...    News   \n",
       "4  Pope Francis used his annual Christmas Day mes...    News   \n",
       "\n",
       "                date  real  \n",
       "0  December 31, 2017  Fake  \n",
       "1  December 31, 2017  Fake  \n",
       "2  December 30, 2017  Fake  \n",
       "3  December 29, 2017  Fake  \n",
       "4  December 25, 2017  Fake  "
      ]
     },
     "execution_count": 2,
     "metadata": {},
     "output_type": "execute_result"
    }
   ],
   "source": [
    "file_names_fake = pd.read_csv('Fake.csv')\n",
    "file_names_fake['real'] = 'Fake'\n",
    "file_names_true = pd.read_csv('True.csv')\n",
    "file_names_true['real'] = 'True'\n",
    "file_names = file_names_fake.append(file_names_true, ignore_index=True)\n",
    "file_names.head()"
   ]
  },
  {
   "cell_type": "code",
   "execution_count": 3,
   "metadata": {},
   "outputs": [],
   "source": [
    "data_train, data_test = train_test_split(file_names, test_size=0.5, random_state=25)\n",
    "sample_size = 2000\n",
    "data_train = data_train.sample(sample_size)\n",
    "data_test = data_test.sample(sample_size)"
   ]
  },
  {
   "cell_type": "code",
   "execution_count": 4,
   "metadata": {},
   "outputs": [],
   "source": [
    "def manual_stopword_filtering(stopwords_en): \n",
    "    stopwords_en.append('reuter')\n",
    "    stopwords_en.append('said')\n",
    "    stopwords_en.append('Reuters')\n",
    "    stopwords_en.append('via')\n",
    "    stopwords_en.append('imag')\n",
    "    stopwords_en.append('https')\n",
    "    stopwords_en.append('com')\n",
    "    stopwords_en.append('one')\n",
    "    stopwords_en.append('u')\n",
    "    stopwords_en.append('also')\n",
    "    stopwords_en.append('would')\n",
    "    stopwords_en.append('featur')\n",
    "    stopwords_en.append('pic')\n",
    "    stopwords_en.append('us')\n",
    "    stopwords_en.append('wednesday')\n",
    "    stopwords_en.append('friday')\n",
    "    stopwords_en.append('monday')\n",
    "    stopwords_en.append('tuesday')\n",
    "    stopwords_en.append('saturday')\n",
    "    stopwords_en.append('sunday')\n",
    "    stopwords_en.append('thursday')\n",
    "    stopwords_en.append('getti')\n",
    "    stopwords_en.append('read')\n",
    "    stopwords_en.append('gop')\n",
    "    stopwords_en.append('watch')\n",
    "    stopwords_en.append('donald')\n",
    "    stopwords_en.append('trump')\n",
    "    stopwords_en.append('hillari')\n",
    "    stopwords_en.append('mr')\n",
    "    stopwords_en.append('accord')\n",
    "    stopwords_en.append('america')\n",
    "    stopwords_en.append('seem')\n",
    "    stopwords_en.append('youtub')\n",
    "    stopwords_en.append('21st')\n",
    "    stopwords_en.append('2017')\n",
    "    stopwords_en.append('www')\n",
    "    return stopwords_en\n",
    "\n",
    "stopwords_en = [\"i\", \"me\", \"my\", \"myself\", \"we\", \"our\", \"ours\", \"ourselves\", \"you\", \"your\", \"yours\", \"yourself\", \"yourselves\", \"he\", \"him\", \"his\", \"himself\", \"she\", \"her\", \"hers\", \"herself\", \"it\", \"its\", \"itself\", \"they\", \"them\", \"their\", \"theirs\", \"themselves\", \"what\", \"which\", \"who\", \"whom\", \"this\", \"that\", \"these\", \"those\", \"am\", \"is\", \"are\", \"was\", \"were\", \"be\", \"been\", \"being\", \"have\", \"has\", \"had\", \"having\", \"do\", \"does\", \"did\", \"doing\", \"a\", \"an\", \"the\", \"and\", \"but\", \"if\", \"or\", \"because\", \"as\", \"until\", \"while\", \"of\", \"at\", \"by\", \"for\", \"with\", \"about\", \"against\", \"between\", \"into\", \"through\", \"during\", \"before\", \"after\", \"above\", \"below\", \"to\", \"from\", \"up\", \"down\", \"in\", \"out\", \"on\", \"off\", \"over\", \"under\", \"again\", \"further\", \"then\", \"once\", \"here\", \"there\", \"when\", \"where\", \"why\", \"how\", \"all\", \"any\", \"both\", \"each\", \"few\", \"more\", \"most\", \"other\", \"some\", \"such\", \"no\", \"nor\", \"not\", \"only\", \"own\", \"same\", \"so\", \"than\", \"too\", \"very\", \"s\", \"t\", \"can\", \"will\", \"just\", \"don\", \"should\", \"now\"]\n",
    "stopwords_en_filtered = manual_stopword_filtering(stopwords_en)\n",
    "porter = PorterStemmer()\n",
    "stopwords_en_porter = [porter.stem(x) for x in stopwords_en]\n",
    "stopwords_en_filtered_poter = [porter.stem(x) for x in stopwords_en_filtered]\n",
    "def porter_tokenizer(text):\n",
    "    ''' Esta función se utiliza cuando se sobre escribe el proceso de tokenización para que se pueda \n",
    "    obtener también la raíz de la palabra.'''\n",
    "    words = word_tokenize(text)\n",
    "    words = [re.sub('[^A-Za-z0-9]+', '', word) for word in words]  # remover los caracteres especiales\n",
    "    words = [word.replace(' ', '') for word in words] #remover los espacios en blanco\n",
    "    words = [word for word in words if word != '']\n",
    "    words = [PorterStemmer().stem(word) for word in words] # obtener la raiz de las palabras\n",
    "    words = [word for word in words if word not in stopwords_en_porter] # remover las stopwords\n",
    "    return words"
   ]
  },
  {
   "cell_type": "code",
   "execution_count": 5,
   "metadata": {},
   "outputs": [],
   "source": [
    "count_vectorizer= CountVectorizer(lowercase = True, strip_accents='unicode', \\\n",
    "                            ngram_range = (1, 3), min_df = 3)\n",
    "count_vectorizer.fit(data_train['text'])\n",
    "\n",
    "X_train_sparse = count_vectorizer.transform(data_train['text'])\n",
    "X_test_sparse = count_vectorizer.transform(data_test['text'])"
   ]
  },
  {
   "cell_type": "code",
   "execution_count": 6,
   "metadata": {},
   "outputs": [],
   "source": [
    "tfidft = TfidfTransformer()\n",
    "tfidft.fit(X_train_sparse)\n",
    "\n",
    "X_train = tfidft.transform(X_train_sparse)\n",
    "X_test = tfidft.transform(X_test_sparse)\n",
    "y_train = data_train.real\n",
    "y_test = data_test.real"
   ]
  },
  {
   "cell_type": "code",
   "execution_count": 7,
   "metadata": {},
   "outputs": [
    {
     "data": {
      "text/plain": [
       "0.982"
      ]
     },
     "execution_count": 7,
     "metadata": {},
     "output_type": "execute_result"
    }
   ],
   "source": [
    "reg_model = LogisticRegression(C = 7, solver=\"saga\", l1_ratio=0.5 , penalty=\"elasticnet\", n_jobs=-1)\n",
    "reg_model.fit(X_train, y_train)\n",
    "reg_model.score(X_test, y_test)"
   ]
  },
  {
   "cell_type": "code",
   "execution_count": 8,
   "metadata": {},
   "outputs": [
    {
     "data": {
      "image/png": "[encoded data removed]",
      "text/plain": [
       "<Figure size 432x288 with 1 Axes>"
      ]
     },
     "metadata": {
      "needs_background": "light"
     },
     "output_type": "display_data"
    }
   ],
   "source": [
    "myColors = ((0.90, 0.96, 1, 1), (0.70, 0.87, 1, 1), (0, 0.40, 0.75, 0.88))\n",
    "cmap = LinearSegmentedColormap.from_list('Custom', myColors,10)\n",
    "axis_labels = np.sort(y_test.unique())\n",
    "cm_rlog = confusion_matrix(y_test, reg_model.predict(X_test))\n",
    "sns.heatmap(cm_rlog, xticklabels=axis_labels, yticklabels=axis_labels, cbar=False, annot=True, cmap=cmap, fmt='g')\n",
    "plt.ylabel('Etiquetas reales')\n",
    "plt.xlabel('Etiquetas predichas');"
   ]
  },
  {
   "cell_type": "code",
   "execution_count": 9,
   "metadata": {},
   "outputs": [],
   "source": [
    "import pickle\n",
    "\n",
    "# Escritura del modelo\n",
    "with open('fakenews_count_vectorizer.pkl', 'wb') as f_model:\n",
    "    pickle.dump(count_vectorizer, f_model)\n",
    "\n",
    "with open('fakenews_tfidft.pkl', 'wb') as f_model:\n",
    "    pickle.dump(tfidft, f_model)\n",
    "\n",
    "\n",
    "with open('fakenews_model.pkl', 'wb') as f_model:\n",
    "    pickle.dump(reg_model, f_model)\n"
   ]
  },
  {
   "cell_type": "code",
   "execution_count": 10,
   "metadata": {},
   "outputs": [],
   "source": [
    "# Lectura del modelo\n",
    "with open('fakenews_count_vectorizer.pkl', 'rb') as f_model:\n",
    "        count_vectorizer_t = pickle.load(f_model)\n",
    "\n",
    "with open('fakenews_tfidft.pkl', 'rb') as f_model:\n",
    "        tfidft_t = pickle.load(f_model)\n",
    "\n",
    "with open('fakenews_model.pkl', 'rb') as f_model:\n",
    "        model_reg_t = pickle.load(f_model)\n"
   ]
  },
  {
   "cell_type": "code",
   "execution_count": 11,
   "metadata": {},
   "outputs": [],
   "source": [
    "def mi_modelo_test(text):\n",
    "    # Lectura del modelo\n",
    "    with open('fakenews_count_vectorizer.pkl', 'rb') as f_model:\n",
    "            count_vectorizer_t = pickle.load(f_model)\n",
    "\n",
    "    with open('fakenews_tfidft.pkl', 'rb') as f_model:\n",
    "            tfidft_t = pickle.load(f_model)\n",
    "\n",
    "    with open('fakenews_model.pkl', 'rb') as f_model:\n",
    "            model_reg_t = pickle.load(f_model)\n",
    "\n",
    "    text_df = pd.Series(data = text)\n",
    "    p1 = count_vectorizer_t.transform(text_df)\n",
    "    p2 = tfidft_t.transform(p1)\n",
    "\n",
    "    result = model_reg_t.predict(p2)\n",
    "    result_proba = np.round(model_reg_t.predict_proba(p2),2)\n",
    "    \n",
    "    return result_proba"
   ]
  },
  {
   "cell_type": "code",
   "execution_count": 12,
   "metadata": {},
   "outputs": [
    {
     "data": {
      "text/plain": [
       "array([[0.75, 0.25]])"
      ]
     },
     "execution_count": 12,
     "metadata": {},
     "output_type": "execute_result"
    }
   ],
   "source": [
    "## NOTICIA TRUE\n",
    "#mi_modelo_test(\"LONDON (Reuters) - Britain’s foreign minister Boris Johnson has arrived in the United States to meet close advisers to President-elect Donald Trump and senior Congressional leaders to discuss ties between the countries. Last June’s vote to leave the European Union has left Britain facing some of the most complicated negotiations since World War Two, with the country keen to deepen ties with the United States and other nations to show that Brexit will not diminish its standing in the world. Johnson’s visit, which was not flagged in advance, is part of Prime Minister Theresa May’s strategy to improve relations with Trump’s team after the president-elect irritated the government by saying that outspoken anti-EU campaigner Nigel Farage would be a good choice for Britain’s ambassador to Washington.  May’s two most senior aides made a secret trip to the United States last month. “Following the successful meeting last month between the Prime Minister’s chiefs of staff and President-elect Donald Trump’s team, Foreign Secretary Boris Johnson is undertaking a short visit to the U.S. for meetings with close advisers to the president-elect and senior Congressional leaders,” a spokesman for Britain’s foreign ministry said in a statement on Sunday. “The discussions will be focused on UK-U.S. relations and other foreign policy matters.” May had told Sky News earlier in the day that she was sure that Britain and the United States would build on their close ties and that their “special relationship” would endure despite describing some of his comments about women as “unacceptable”. \")\n",
    "## NOTICIA FAKE\n",
    "mi_modelo_test(\"There has to something more to this story than what we re being told. If there isn t more to this story, then Atlanta Airport officials and Georgia Power are going to have some explaining to do A complete power outage at the nation s busiest airport, the Hartsfield-Jackson Atlanta International Airport, grounded flights Sunday afternoon, threatening to cause a holiday travel nightmare for fliers across the country just over a week before Christmas.Thousands of passengers were stranded and flights were grounded or delayed as a power outage crippled Atlanta's Hartsfield-Jackson Airport   the world's busiest airport pic.twitter.com/WpWQLGu5GD  EAGLE WINGS (@NIVIsa4031) December 17, 2017Georgia Power said that repairs are  well underway  at the airport and power is expected to be restored around midnight on Sunday, and the airport tweeted that  Power on Concourse F is back ON! Washington Examiner s Byron York tweeted only two hours ago, that  no one seems to know why  the power outage happened.The Atlanta airport story is huge. By far the nation's largest airport, it just goes dark, operations shut down. Thousands stranded, in very difficult situations. And nobody seems to know why.  Byron York (@ByronYork) December 17, 2017 We are working with great urgency w/ @Georgia Power to restore power through rest of airport,  the tweet read.According to FlightAware.com, 1,161 flights have been canceled at Hartsfield-Jackson as of 8:20 p.m. ET.Delta passengers were not happy with how things were being handled, especially the passengers who were stuck on the tarmac for several hours, unable to disembark from the planes:Oh. My. God. Just left ATL airport last night at midnight after 15 hours of travel. If I had been stuck against my will in my plane on tarmac..Gives me anxiety just thinking about it. That s A LOT of ppl in tight space.  SidNey (@OhGoSquid) December 18, 2017Fox News reported on the outage:Power outage at Atlanta airport causes 'pandemonium,' grounds flights https://t.co/Och4XslbLi pic.twitter.com/VX5lnpZMFQ  Fox News (@FoxNews) December 17, 2017Georgia Power said in a statement Sunday evening that  the issue may have involved a fire which caused extensive damage in a Georgia Power underground electrical facility. The airport said power had been restored to one of its six concourses around 7:30 p.m., about seven hours after the initial outage, and Georgia Power said it expects to have power fully restored to the airport by midnight.CNBC News reporter Ethan Kraft reports that Chick-fil-A s CEO Dan Cathy will coordinate meals for thousands of stranded passengers at the airport:Atlanta Mayor Kasim Reed says he spoke with Chick-fil-A CEO Dan Cathy to coordinate meals for thousands of stranded passengers at #ATLairport, who have been in the dark since 2p ET  Ethan Kraft (@ethan_kraft) December 18, 2017Fire crews were able to extinguish the fire and had begun assessing damage and beginning repairs, but they had not yet been able to ascertain the cause of the blaze, the utility said.  FOX NewsNBC News  Airport officials said a large portion of the facility had been affected and that repair teams had been working to address the situation since around 1:30 p.m. ET.Not everyone is buying the  fire  story however. This Twitter user believes that terror threat is the cause for the evacuation:The #atlairport has been evacuated, passangers are standing outside on the tarmac, no one is allowed to leave. I think a high level #Hivite was trying to get away, or they've disrupted a major terror attack. It's not being reported by @CNN (headquarters in Atlanta) #MediaBlackOut  Sarah Ruth Ashcraft (@SaRaAshcraft) December 17, 2017Many citizens are questioning the story they are being told about a simple power outage, and wondering why, in the largest airport in the world, there isn t any back up power?https://twitter.com/tonyabonya/status/942576639887663104Officials with the Atlanta Police Department told WSB-TV the airport is evacuating travelers inside.A spokesperson told The Associated Press that no areas outside the airport were affected by the outage. However, flights at Chicago airports O Hare International and Midway both have canceled flights   but it s not yet clear if they were canceled due to Atlanta s outage. Dealing with the power outage at the Atlanta airport was actually insane and I'll post other scary videos later. But the staff was having to slide down the escalators to help people and it was amusing. Finally in the car headed home. #atlantaairport #atl #atlantaA post shared by  sarahmanleyy (@sarahmanleyy) on Dec 17, 2017 at 2:54pm PSTDelta Airlines, which is headquartered in Atlanta, said it had canceled approximately 900 mainline and Delta Connection flights. Passengers should check the status of their flights, the airline said. Pending full resumption of power, Delta anticipates a near-full schedule Monday in Atlanta, though some delays and cancellations can be expected,  the airline said on its website.The airline said it would issue a waiver to those who were traveling through Atlanta with the airline on Dec. 17 or 18. The airline also said it would give travelers a refund if they would like to cancel their trip because their flight was canceled or delayed more than 90 minutes.Those arriving for their flights were met with long lines and a pitch dark airport. No escalators, elevators or information screens were operational.Brian Moote, 36, the morning host of an Atlanta radio show, said he was returning home on a flight from Dallas when the power went out in the airport. Moote said he and his fellow passengers had been stuck in their plane on the tarmac for nearly six hours, beginning at around 12:30 p.m. ET.\")\n"
   ]
  },
  {
   "cell_type": "code",
   "execution_count": 15,
   "metadata": {},
   "outputs": [
    {
     "name": "stderr",
     "output_type": "stream",
     "text": [
      "\n",
      "\n",
      "====== WebDriver manager ======\n",
      "Current google-chrome version is 102.0.5005\n",
      "Get LATEST chromedriver version for 102.0.5005 google-chrome\n",
      "Trying to download new driver from https://chromedriver.storage.googleapis.com/102.0.5005.61/chromedriver_win32.zip\n",
      "Driver has been saved in cache [C:\\Users\\Lucas Choconi\\.wdm\\drivers\\chromedriver\\win32\\102.0.5005.61]\n"
     ]
    }
   ],
   "source": [
    "from selenium import webdriver\n",
    "from selenium.webdriver.chrome.service import Service\n",
    "from webdriver_manager.chrome import ChromeDriverManager\n",
    "from bs4 import BeautifulSoup\n",
    "\n",
    "chrome_options = webdriver.ChromeOptions()\n",
    "chrome_options.add_argument('--headless')\n",
    "chrome_options.add_argument('--no-sandbox')\n",
    "chrome_options.add_argument('--disable-dev-shm-usage')\n",
    "wd = webdriver.Chrome(service=Service(ChromeDriverManager().install()),options=chrome_options)\n",
    "\n",
    "def get_text_from_url_bbc(url):\n",
    "    wd.get(url)\n",
    "\n",
    "    time.sleep(1)\n",
    "\n",
    "    soup = BeautifulSoup(wd.page_source)\n",
    "    text = soup.find_all('div', {'data-component': 'text-block'}) #(?P<text>\\>(.*?)\\<)\n",
    "    text = reversed(text) \n",
    "    text2 = \"\"\n",
    "    for i in text:\n",
    "        try:\n",
    "            text2 = i.text+text2\n",
    "        except:\n",
    "            text2 = \"\"+text2\n",
    "    return text2    "
   ]
  },
  {
   "cell_type": "code",
   "execution_count": 17,
   "metadata": {
    "collapsed": true,
    "jupyter": {
     "outputs_hidden": true
    }
   },
   "outputs": [
    {
     "data": {
      "text/plain": [
       "'Hidden away in a residential neighbourhood is one of Afghanistan\\'s new \"secret\" schools - a small but powerful act of defiance against the Taliban. Around a dozen teenage girls are attending a maths class. \"We know about the threats and we worry about them,\" the sole teacher tells us, but she adds, girls\\' education is worth \"any risk\". In all but a handful of provinces in the country, girls\\' secondary schools have been ordered to remain closed by the Taliban. At the school we visit, they\\'ve done an impressive job trying to replicate a real classroom, with rows of neat blue and white desks. \"We do our best to do this secretly,\" says the female teacher, \"but even if they arrest me, they beat me, it\\'s worth it.\" Back in March, it seemed as if girls\\' schools were about to reopen. But just an hour or so after pupils began arriving, the Taliban leadership announced a sudden change in policy. For the students at the secret school, and many other teenage girls, the pain is still raw. \"It\\'s been two months now, and still schools haven\\'t reopened,\" one 19-year-old in the makeshift classroom told us. \"It makes me so sad,\" she added, covering her face with the palms of her hands to hold back the tears. But there\\'s also a mood of defiance. Another 15-year-old student wanted to send a message to other girls in Afghanistan: \"Be brave, if you are brave no-one can stop you.\"  Primary schools for girls have reopened under the Taliban, and have in fact seen a rise in attendance following the improvement in security in rural parts of the country, but it\\'s not clear when or if older girls will be allowed back into class. The Taliban have said the correct \"Islamic environment\" needs to be created first, though given schools were already segregated by gender, no-one seems sure what that means. Taliban officials have repeatedly insisted in public that girls schools will reopen, but also admit that female education is a \"sensitive\" issue for them. During their previous stint in power in the 1990s, all girls were prevented from going to school, ostensibly due to \"security concerns\". Now, multiple sources told the BBC, a handful of hardline but highly influential individuals in the group appear to still be opposed to it. In private, other Taliban members have expressed their disappointment at the decision not to open girls\\' schools. The Taliban\\'s Ministry of Education seemed as surprised as anyone when the leadership overruled their plans in March, and some senior Taliban officials are understood to be educating their daughters in Qatar or Pakistan. In recent weeks, a number of religious scholars with links to the Taliban have issued fatwas, or religious decrees supporting girls\\' right to learn. Sheikh Rahimullah Haqqani is an Afghan cleric, based largely across the border in Peshawar, Pakistan. He\\'s well-respected by the Taliban and on a trip to Kabul last month met senior figures within their government. He\\'s careful not to criticise the continued closure of schools but, speaking at his madrassa in Peshawar, with his mobile phone in hand, scrolls through the text of his \"fatwa\", which shares decrees from earlier scholars and accounts from the life of the Prophet Muhammad.  \"There is no justification in the sharia [law] to say female education is not allowed. No justification at all,\" he tells the BBC. \"All the religious books have stated female education is permissible and obligatory, because, for example, if a woman gets sick, in an Islamic environment like Afghanistan or Pakistan, and needs treatment, it\\'s much better if she\\'s treated by a female doctor.\"  Similar fatwas have been issued by clerics in Herat and Paktia provinces in Afghanistan. It\\'s a symbol of how widespread support for girls\\' education now is in the country, even amongst conservative circles, but it\\'s not clear how much of an impact the decrees will have. The Taliban have formed a committee to examine the issue, but multiple sources with links to the Taliban told the BBC that while even senior Taliban ministers were on board with the reopening of girls schools in March, opposition to it centred around the group\\'s leadership in the southern city of Kandahar, where the \"Amir\" or Supreme Leader, Mullah Haibatullah is based. After initially adopting a more flexible attitude when taking power last August, the Taliban have recently been issuing more and more hardline edicts, including making the face veil compulsory for women and encouraging them to stay at home. Meanwhile, their tolerance for dissent, even in their own ranks, is dissipating. One Taliban member with a large following on social media, had tweeted critically about the closure of girls\\' schools, as well as new rules ordering government employees to grow their beards. However, according to one source, he was called in for questioning by the Taliban intelligence department, later deleting his tweets and apologising for his earlier comments on beards. There appears to be very little grassroots opposition to female education in Afghanistan, but some Taliban figures cite concerns about the Islamic State group using the issue as a recruitment tool, if girls\\' schools are opened up. Western officials, however, have also made clear that progress on women\\'s rights is key for the Taliban to be able to access some of the billions of dollars of foreign reserves that are frozen. Meanwhile, Afghan women\\'s rights activists are trying to ensure a generation of girls aren\\'t left behind. At the secret school we visited, they hold lessons for one or two hours per day, focused on maths, biology, chemistry and physics. The teacher in charge knows there are many other girls who would like to attend, but they\\'re constrained by the lack of space and resources, as well as the need to remain below the radar. She\\'s not hopeful about the prospect of regular schools opening up any time soon, but is determined to do what she can. \"As an educated woman, it\\'s my duty,\" she tells the BBC. \"Education can save us from this darkness.\" '"
      ]
     },
     "execution_count": 17,
     "metadata": {},
     "output_type": "execute_result"
    }
   ],
   "source": [
    "url_test = \"https://www.bbc.com/news/world-asia-61470748\"\n",
    "get_text_from_url_bbc(url_test)"
   ]
  },
  {
   "cell_type": "code",
   "execution_count": null,
   "metadata": {},
   "outputs": [
    {
     "name": "stdout",
     "output_type": "stream",
     "text": [
      " * Serving Flask app \"my__webapp\" (lazy loading)\n",
      " * Environment: production\n",
      "\u001b[31m   WARNING: This is a development server. Do not use it in a production deployment.\u001b[0m\n",
      "\u001b[2m   Use a production WSGI server instead.\u001b[0m\n",
      " * Debug mode: off\n"
     ]
    },
    {
     "name": "stderr",
     "output_type": "stream",
     "text": [
      " * Running on all addresses.\n",
      "   WARNING: This is a development server. Do not use it in a production deployment.\n",
      " * Running on http://192.168.0.10:5017/ (Press CTRL+C to quit)\n",
      "127.0.0.1 - - [22/Jun/2022 23:37:36] \"GET /reg_model/ HTTP/1.1\" 200 -\n",
      "127.0.0.1 - - [22/Jun/2022 23:37:42] \"GET /reg_model_bbc_url/https:_slash_forward__slash_forward_www.bbc.com_slash_forward_news_slash_forward_world-asia-61470748 HTTP/1.1\" 200 -\n"
     ]
    },
    {
     "name": "stdout",
     "output_type": "stream",
     "text": [
      "Hidden away in a residential neighbourhood is one of Afghanistan's new \"secret\" schools - a small but powerful act of defiance against the Taliban. Around a dozen teenage girls are attending a maths class. \"We know about the threats and we worry about them,\" the sole teacher tells us, but she adds, girls' education is worth \"any risk\". In all but a handful of provinces in the country, girls' secondary schools have been ordered to remain closed by the Taliban. At the school we visit, they've done an impressive job trying to replicate a real classroom, with rows of neat blue and white desks. \"We do our best to do this secretly,\" says the female teacher, \"but even if they arrest me, they beat me, it's worth it.\" Back in March, it seemed as if girls' schools were about to reopen. But just an hour or so after pupils began arriving, the Taliban leadership announced a sudden change in policy. For the students at the secret school, and many other teenage girls, the pain is still raw. \"It's been two months now, and still schools haven't reopened,\" one 19-year-old in the makeshift classroom told us. \"It makes me so sad,\" she added, covering her face with the palms of her hands to hold back the tears. But there's also a mood of defiance. Another 15-year-old student wanted to send a message to other girls in Afghanistan: \"Be brave, if you are brave no-one can stop you.\"  Primary schools for girls have reopened under the Taliban, and have in fact seen a rise in attendance following the improvement in security in rural parts of the country, but it's not clear when or if older girls will be allowed back into class. The Taliban have said the correct \"Islamic environment\" needs to be created first, though given schools were already segregated by gender, no-one seems sure what that means. Taliban officials have repeatedly insisted in public that girls schools will reopen, but also admit that female education is a \"sensitive\" issue for them. During their previous stint in power in the 1990s, all girls were prevented from going to school, ostensibly due to \"security concerns\". Now, multiple sources told the BBC, a handful of hardline but highly influential individuals in the group appear to still be opposed to it. In private, other Taliban members have expressed their disappointment at the decision not to open girls' schools. The Taliban's Ministry of Education seemed as surprised as anyone when the leadership overruled their plans in March, and some senior Taliban officials are understood to be educating their daughters in Qatar or Pakistan. In recent weeks, a number of religious scholars with links to the Taliban have issued fatwas, or religious decrees supporting girls' right to learn. Sheikh Rahimullah Haqqani is an Afghan cleric, based largely across the border in Peshawar, Pakistan. He's well-respected by the Taliban and on a trip to Kabul last month met senior figures within their government. He's careful not to criticise the continued closure of schools but, speaking at his madrassa in Peshawar, with his mobile phone in hand, scrolls through the text of his \"fatwa\", which shares decrees from earlier scholars and accounts from the life of the Prophet Muhammad.  \"There is no justification in the sharia [law] to say female education is not allowed. No justification at all,\" he tells the BBC. \"All the religious books have stated female education is permissible and obligatory, because, for example, if a woman gets sick, in an Islamic environment like Afghanistan or Pakistan, and needs treatment, it's much better if she's treated by a female doctor.\"  Similar fatwas have been issued by clerics in Herat and Paktia provinces in Afghanistan. It's a symbol of how widespread support for girls' education now is in the country, even amongst conservative circles, but it's not clear how much of an impact the decrees will have. The Taliban have formed a committee to examine the issue, but multiple sources with links to the Taliban told the BBC that while even senior Taliban ministers were on board with the reopening of girls schools in March, opposition to it centred around the group's leadership in the southern city of Kandahar, where the \"Amir\" or Supreme Leader, Mullah Haibatullah is based. After initially adopting a more flexible attitude when taking power last August, the Taliban have recently been issuing more and more hardline edicts, including making the face veil compulsory for women and encouraging them to stay at home. Meanwhile, their tolerance for dissent, even in their own ranks, is dissipating. One Taliban member with a large following on social media, had tweeted critically about the closure of girls' schools, as well as new rules ordering government employees to grow their beards. However, according to one source, he was called in for questioning by the Taliban intelligence department, later deleting his tweets and apologising for his earlier comments on beards. There appears to be very little grassroots opposition to female education in Afghanistan, but some Taliban figures cite concerns about the Islamic State group using the issue as a recruitment tool, if girls' schools are opened up. Western officials, however, have also made clear that progress on women's rights is key for the Taliban to be able to access some of the billions of dollars of foreign reserves that are frozen. Meanwhile, Afghan women's rights activists are trying to ensure a generation of girls aren't left behind. At the secret school we visited, they hold lessons for one or two hours per day, focused on maths, biology, chemistry and physics. The teacher in charge knows there are many other girls who would like to attend, but they're constrained by the lack of space and resources, as well as the need to remain below the radar. She's not hopeful about the prospect of regular schools opening up any time soon, but is determined to do what she can. \"As an educated woman, it's my duty,\" she tells the BBC. \"Education can save us from this darkness.\" \n"
     ]
    },
    {
     "name": "stderr",
     "output_type": "stream",
     "text": [
      "127.0.0.1 - - [22/Jun/2022 23:37:49] \"GET /reg_model/Hidden%20away%20in%20a%20residential%20neighbourhood%20is%20one%20of%20Afghanistan's%20new%20%22secret%22%20schools%20-%20a%20small%20but%20powerful%20act%20of%20defiance%20against%20the%20Taliban.%20Around%20a%20dozen%20teenage%20girls%20are%20attending%20a%20maths%20class.%20%22We%20know%20about%20the%20threats%20and%20we%20worry%20about%20them,%22%20the%20sole%20teacher%20tells%20us,%20but%20she%20adds,%20girls'%20education%20is%20worth%20%22any%20risk%22.%20In%20all%20but%20a%20handful%20of%20provinces%20in%20the%20country,%20girls'%20secondary%20schools%20have%20been%20ordered%20to%20remain%20closed%20by%20the%20Taliban.%20At%20the%20school%20we%20visit,%20they've%20done%20an%20impressive%20job%20trying%20to%20replicate%20a%20real%20classroom,%20with%20rows%20of%20neat%20blue%20and%20white%20desks.%20%22We%20do%20our%20best%20to%20do%20this%20secretly,%22%20says%20the%20female%20teacher,%20%22but%20even%20if%20they%20arrest%20me,%20they%20beat%20me,%20it's%20worth%20it.%22%20Back%20in%20March,%20it%20seemed%20as%20if%20girls'%20schools%20were%20about%20to%20reopen.%20But%20just%20an%20hour%20or%20so%20after%20pupils%20began%20arriving,%20the%20Taliban%20leadership%20announced%20a%20sudden%20change%20in%20policy.%20For%20the%20students%20at%20the%20secret%20school,%20and%20many%20other%20teenage%20girls,%20the%20pain%20is%20still%20raw.%20%22It's%20been%20two%20months%20now,%20and%20still%20schools%20haven't%20reopened,%22%20one%2019-year-old%20in%20the%20makeshift%20classroom%20told%20us.%20%22It%20makes%20me%20so%20sad,%22%20she%20added,%20covering%20her%20face%20with%20the%20palms%20of%20her%20hands%20to%20hold%20back%20the%20tears.%20But%20there's%20also%20a%20mood%20of%20defiance.%20Another%2015-year-old%20student%20wanted%20to%20send%20a%20message%20to%20other%20girls%20in%20Afghanistan:%20%22Be%20brave,%20if%20you%20are%20brave%20no-one%20can%20stop%20you.%22%20%20Primary%20schools%20for%20girls%20have%20reopened%20under%20the%20Taliban,%20and%20have%20in%20fact%20seen%20a%20rise%20in%20attendance%20following%20the%20improvement%20in%20security%20in%20rural%20parts%20of%20the%20country,%20but%20it's%20not%20clear%20when%20or%20if%20older%20girls%20will%20be%20allowed%20back%20into%20class.%20The%20Taliban%20have%20said%20the%20correct%20%22Islamic%20environment%22%20needs%20to%20be%20created%20first,%20though%20given%20schools%20were%20already%20segregated%20by%20gender,%20no-one%20seems%20sure%20what%20that%20means.%20Taliban%20officials%20have%20repeatedly%20insisted%20in%20public%20that%20girls%20schools%20will%20reopen,%20but%20also%20admit%20that%20female%20education%20is%20a%20%22sensitive%22%20issue%20for%20them.%20During%20their%20previous%20stint%20in%20power%20in%20the%201990s,%20all%20girls%20were%20prevented%20from%20going%20to%20school,%20ostensibly%20due%20to%20%22security%20concerns%22.%20Now,%20multiple%20sources%20told%20the%20BBC,%20a%20handful%20of%20hardline%20but%20highly%20influential%20individuals%20in%20the%20group%20appear%20to%20still%20be%20opposed%20to%20it.%20In%20private,%20other%20Taliban%20members%20have%20expressed%20their%20disappointment%20at%20the%20decision%20not%20to%20open%20girls'%20schools.%20The%20Taliban's%20Ministry%20of%20Education%20seemed%20as%20surprised%20as%20anyone%20when%20the%20leadership%20overruled%20their%20plans%20in%20March,%20and%20some%20senior%20Taliban%20officials%20are%20understood%20to%20be%20educating%20their%20daughters%20in%20Qatar%20or%20Pakistan.%20In%20recent%20weeks,%20a%20number%20of%20religious%20scholars%20with%20links%20to%20the%20Taliban%20have%20issued%20fatwas,%20or%20religious%20decrees%20supporting%20girls'%20right%20to%20learn.%20Sheikh%20Rahimullah%20Haqqani%20is%20an%20Afghan%20cleric,%20based%20largely%20across%20the%20border%20in%20Peshawar,%20Pakistan.%20He's%20well-respected%20by%20the%20Taliban%20and%20on%20a%20trip%20to%20Kabul%20last%20month%20met%20senior%20figures%20within%20their%20government.%20He's%20careful%20not%20to%20criticise%20the%20continued%20closure%20of%20schools%20but,%20speaking%20at%20his%20madrassa%20in%20Peshawar,%20with%20his%20mobile%20phone%20in%20hand,%20scrolls%20through%20the%20text%20of%20his%20%22fatwa%22,%20which%20shares%20decrees%20from%20earlier%20scholars%20and%20accounts%20from%20the%20life%20of%20the%20Prophet%20Muhammad.%20%20%22There%20is%20no%20justification%20in%20the%20sharia%20[law]%20to%20say%20female%20education%20is%20not%20allowed.%20No%20justification%20at%20all,%22%20he%20tells%20the%20BBC.%20%22All%20the%20religious%20books%20have%20stated%20female%20education%20is%20permissible%20and%20obligatory,%20because,%20for%20example,%20if%20a%20woman%20gets%20sick,%20in%20an%20Islamic%20environment%20like%20Afghanistan%20or%20Pakistan,%20and%20needs%20treatment,%20it's%20much%20better%20if%20she's%20treated%20by%20a%20female%20doctor.%22%20%20Similar%20fatwas%20have%20been%20issued%20by%20clerics%20in%20Herat%20and%20Paktia%20provinces%20in%20Afghanistan.%20It's%20a%20symbol%20of%20how%20widespread%20support%20for%20girls'%20education%20now%20is%20in%20the%20country,%20even%20amongst%20conservative%20circles,%20but%20it's%20not%20clear%20how%20much%20of%20an%20impact%20the%20decrees%20will%20have.%20The%20Taliban%20have%20formed%20a%20committee%20to%20examine%20the%20issue,%20but%20multiple%20sources%20with%20links%20to%20the%20Taliban%20told%20the%20BBC%20that%20while%20even%20senior%20Taliban%20ministers%20were%20on%20board%20with%20the%20reopening%20of%20girls%20schools%20in%20March,%20opposition%20to%20it%20centred%20around%20the%20group's%20leadership%20in%20the%20southern%20city%20of%20Kandahar,%20where%20the%20%22Amir%22%20or%20Supreme%20Leader,%20Mullah%20Haibatullah%20is%20based.%20After%20initially%20adopting%20a%20more%20flexible%20attitude%20when%20taking%20power%20last%20August,%20the%20Taliban%20have%20recently%20been%20issuing%20more%20and%20more%20hardline%20edicts,%20including%20making%20the%20face%20veil%20compulsory%20for%20women%20and%20encouraging%20them%20to%20stay%20at%20home.%20Meanwhile,%20their%20tolerance%20for%20dissent,%20even%20in%20their%20own%20ranks,%20is%20dissipating.%20One%20Taliban%20member%20with%20a%20large%20following%20on%20social%20media,%20had%20tweeted%20critically%20about%20the%20closure%20of%20girls'%20schools,%20as%20well%20as%20new%20rules%20ordering%20government%20employees%20to%20grow%20their%20beards.%20However,%20according%20to%20one%20source,%20he%20was%20called%20in%20for%20questioning%20by%20the%20Taliban%20intelligence%20department,%20later%20deleting%20his%20tweets%20and%20apologising%20for%20his%20earlier%20comments%20on%20beards.%20There%20appears%20to%20be%20very%20little%20grassroots%20opposition%20to%20female%20education%20in%20Afghanistan,%20but%20some%20Taliban%20figures%20cite%20concerns%20about%20the%20Islamic%20State%20group%20using%20the%20issue%20as%20a%20recruitment%20tool,%20if%20girls'%20schools%20are%20opened%20up.%20Western%20officials,%20however,%20have%20also%20made%20clear%20that%20progress%20on%20women's%20rights%20is%20key%20for%20the%20Taliban%20to%20be%20able%20to%20access%20some%20of%20the%20billions%20of%20dollars%20of%20foreign%20reserves%20that%20are%20frozen.%20Meanwhile,%20Afghan%20women's%20rights%20activists%20are%20trying%20to%20ensure%20a%20generation%20of%20girls%20aren't%20left%20behind.%20At%20the%20secret%20school%20we%20visited,%20they%20hold%20lessons%20for%20one%20or%20two%20hours%20per%20day,%20focused%20on%20maths,%20biology,%20chemistry%20and%20physics.%20The%20teacher%20in%20charge%20knows%20there%20are%20many%20other%20girls%20who%20would%20like%20to%20attend,%20but%20they're%20constrained%20by%20the%20lack%20of%20space%20and%20resources,%20as%20well%20as%20the%20need%20to%20remain%20below%20the%20radar.%20She's%20not%20hopeful%20about%20the%20prospect%20of%20regular%20schools%20opening%20up%20any%20time%20soon,%20but%20is%20determined%20to%20do%20what%20she%20can.%20%22As%20an%20educated%20woman,%20it's%20my%20duty,%22%20she%20tells%20the%20BBC.%20%22Education%20can%20save%20us%20from%20this%20darkness.%22 HTTP/1.1\" 200 -\n",
      "127.0.0.1 - - [22/Jun/2022 23:37:59] \"GET /reg_model/Hidden%20away%20in%20a%20residential%20neighbourhood%20is%20one%20of%20Afghanistan's%20new%20%22secret%22%20schools%20-%20a%20small%20but%20powerful%20act%20of%20defiance%20against%20the%20Taliban.%20Around%20a%20dozen%20teenage%20girls%20are%20attending%20a%20maths%20class.%20%22We%20know%20about%20the%20threats%20and%20we%20worry%20about%20them,%22%20the%20sole%20teacher%20tells%20us,%20but%20she%20adds,%20girls'%20education%20is%20worth%20%22any%20risk%22.%20In%20all%20but%20a%20handful%20of%20provinces%20in%20the%20country,%20girls'%20secondary%20schools%20have%20been%20ordered%20to%20remain%20closed%20by%20the%20Taliban.%20At%20the%20school%20we%20visit,%20they've%20done%20an%20impressive%20job%20trying%20to%20replicate%20a%20real%20classroom,%20with%20rows%20of%20neat%20blue%20and%20white%20desks.%20%22We%20do%20our%20best%20to%20do%20this%20secretly,%22%20says%20the%20female%20teacher,%20%22but%20even%20if%20they%20arrest%20me,%20they%20beat%20me,%20it's%20worth%20it.%22%20Back%20in%20March,%20it%20seemed%20as%20if%20girls'%20schools%20were%20about%20to%20reopen.%20But%20just%20an%20hour%20or%20so%20after%20pupils%20began%20arriving,%20the%20Taliban%20leadership%20announced%20a%20sudden%20change%20in%20policy.%20For%20the%20students%20at%20the%20secret%20school,%20and%20many%20other%20teenage%20girls,%20the%20pain%20is%20still%20raw.%20%22It's%20been%20two%20months%20now,%20and%20still%20schools%20haven't%20reopened,%22%20one%2019-year-old%20in%20the%20makeshift%20classroom%20told%20us.%20%22It%20makes%20me%20so%20sad,%22%20she%20added,%20covering%20her%20face%20with%20the%20palms%20of%20her%20hands%20to%20hold%20back%20the%20tears.%20But%20there's%20also%20a%20mood%20of%20defiance.%20Another%2015-year-old%20student%20wanted%20to%20send%20a%20message%20to%20other%20girls%20in%20Afghanistan:%20%22Be%20brave,%20if%20you%20are%20brave%20no-one%20can%20stop%20you.%22%20%20Primary%20schools%20for%20girls%20have%20reopened%20under%20the%20Taliban,%20and%20have%20in%20fact%20seen%20a%20rise%20in%20attendance%20following%20the%20improvement%20in%20security%20in%20rural%20parts%20of%20the%20country,%20but%20it's%20not%20clear%20when%20or%20if%20older%20girls%20will%20be%20allowed%20back%20into%20class.%20The%20Taliban%20have%20said%20the%20correct%20%22Islamic%20environment%22%20needs%20to%20be%20created%20first,%20though%20given%20schools%20were%20already%20segregated%20by%20gender,%20no-one%20seems%20sure%20what%20that%20means.%20Taliban%20officials%20have%20repeatedly%20insisted%20in%20public%20that%20girls%20schools%20will%20reopen,%20but%20also%20admit%20that%20female%20education%20is%20a%20%22sensitive%22%20issue%20for%20them.%20During%20their%20previous%20stint%20in%20power%20in%20the%201990s,%20all%20girls%20were%20prevented%20from%20going%20to%20school,%20ostensibly%20due%20to%20%22security%20concerns%22.%20Now,%20multiple%20sources%20told%20the%20BBC,%20a%20handful%20of%20hardline%20but%20highly%20influential%20individuals%20in%20the%20group%20appear%20to%20still%20be%20opposed%20to%20it.%20In%20private,%20other%20Taliban%20members%20have%20expressed%20their%20disappointment%20at%20the%20decision%20not%20to%20open%20girls'%20schools.%20The%20Taliban's%20Ministry%20of%20Education%20seemed%20as%20surprised%20as%20anyone%20when%20the%20leadership%20overruled%20their%20plans%20in%20March,%20and%20some%20senior%20Taliban%20officials%20are%20understood%20to%20be%20educating%20their%20daughters%20in%20Qatar%20or%20Pakistan.%20In%20recent%20weeks,%20a%20number%20of%20religious%20scholars%20with%20links%20to%20the%20Taliban%20have%20issued%20fatwas,%20or%20religious%20decrees%20supporting%20girls'%20right%20to%20learn.%20Sheikh%20Rahimullah%20Haqqani%20is%20an%20Afghan%20cleric,%20based%20largely%20across%20the%20border%20in%20Peshawar,%20Pakistan.%20He's%20well-respected%20by%20the%20Taliban%20and%20on%20a%20trip%20to%20Kabul%20last%20month%20met%20senior%20figures%20within%20their%20government.%20He's%20careful%20not%20to%20criticise%20the%20continued%20closure%20of%20schools%20but,%20speaking%20at%20his%20madrassa%20in%20Peshawar,%20with%20his%20mobile%20phone%20in%20hand,%20scrolls%20through%20the%20text%20of%20his%20%22fatwa%22,%20which%20shares%20decrees%20from%20earlier%20scholars%20and%20accounts%20from%20the%20life%20of%20the%20Prophet%20Muhammad.%20%20%22There%20is%20no%20justification%20in%20the%20sharia%20[law]%20to%20say%20female%20education%20is%20not%20allowed.%20No%20justification%20at%20all,%22%20he%20tells%20the%20BBC.%20%22All%20the%20religious%20books%20have%20stated%20female%20education%20is%20permissible%20and%20obligatory,%20because,%20for%20example,%20if%20a%20woman%20gets%20sick,%20in%20an%20Islamic%20environment%20like%20Afghanistan%20or%20Pakistan,%20and%20needs%20treatment,%20it's%20much%20better%20if%20she's%20treated%20by%20a%20female%20doctor.%22%20%20Similar%20fatwas%20have%20been%20issued%20by%20clerics%20in%20Herat%20and%20Paktia%20provinces%20in%20Afghanistan.%20It's%20a%20symbol%20of%20how%20widespread%20support%20for%20girls'%20education%20now%20is%20in%20the%20country,%20even%20amongst%20conservative%20circles,%20but%20it's%20not%20clear%20how%20much%20of%20an%20impact%20the%20decrees%20will%20have.%20The%20Taliban%20have%20formed%20a%20committee%20to%20examine%20the%20issue,%20but%20multiple%20sources%20with%20links%20to%20the%20Taliban%20told%20the%20BBC%20that%20while%20even%20senior%20Taliban%20ministers%20were%20on%20board%20with%20the%20reopening%20of%20girls%20schools%20in%20March,%20opposition%20to%20it%20centred%20around%20the%20group's%20leadership%20in%20the%20southern%20city%20of%20Kandahar,%20where%20the%20%22Amir%22%20or%20Supreme%20Leader,%20Mullah%20Haibatullah%20is%20based.%20After%20initially%20adopting%20a%20more%20flexible%20attitude%20when%20taking%20power%20last%20August,%20the%20Taliban%20have%20recently%20been%20issuing%20more%20and%20more%20hardline%20edicts,%20including%20making%20the%20face%20veil%20compulsory%20for%20women%20and%20encouraging%20them%20to%20stay%20at%20home.%20Meanwhile,%20their%20tolerance%20for%20dissent,%20even%20in%20their%20own%20ranks,%20is%20dissipating.%20One%20Taliban%20member%20with%20a%20large%20following%20on%20social%20media,%20had%20tweeted%20critically%20about%20the%20closure%20of%20girls'%20schools,%20as%20well%20as%20new%20rules%20ordering%20government%20employees%20to%20grow%20their%20beards.%20However,%20according%20to%20one%20source,%20he%20was%20called%20in%20for%20questioning%20by%20the%20Taliban%20intelligence%20department,%20later%20deleting%20his%20tweets%20and%20apologising%20for%20his%20earlier%20comments%20on%20beards.%20There%20appears%20to%20be%20very%20little%20grassroots%20opposition%20to%20female%20education%20in%20Afghanistan,%20but%20some%20Taliban%20figures%20cite%20concerns%20about%20the%20Islamic%20State%20group%20using%20the%20issue%20as%20a%20recruitment%20tool,%20if%20girls'%20schools%20are%20opened%20up.%20Western%20officials,%20however,%20have%20also%20made%20clear%20that%20progress%20on%20women's%20rights%20is%20key%20for%20the%20Taliban%20to%20be%20able%20to%20access%20some%20of%20the%20billions%20of%20dollars%20of%20foreign%20reserves%20that%20are%20frozen.%20Meanwhile,%20Afghan%20women's%20rights%20activists%20are%20trying%20to%20ensure%20a%20generation%20of%20girls%20aren't%20left%20behind.%20At%20the%20secret%20school%20we%20visited,%20they%20hold%20lessons%20for%20one%20or%20two%20hours%20per%20day,%20focused%20on%20maths,%20biology,%20chemistry%20and%20physics.%20The%20teacher%20in%20charge%20knows%20there%20are%20many%20other%20girls%20who%20would%20like%20to%20attend,%20but%20they're%20constrained%20by%20the%20lack%20of%20space%20and%20resources,%20as%20well%20as%20the%20need%20to%20remain%20below%20the%20radar.%20She's%20not%20hopeful%20about%20the%20prospect%20of%20regular%20schools%20opening%20up%20any%20time%20soon,%20but%20is%20determined%20to%20do%20what%20she%20can.%20%22As%20an%20educated%20woman,%20it's%20my%20duty,%22%20she%20tells%20the%20BBC.%20%22Education%20can%20save%20us%20from%20this%20darkness.%22 HTTP/1.1\" 200 -\n",
      "127.0.0.1 - - [22/Jun/2022 23:38:03] \"GET /reg_model/ HTTP/1.1\" 200 -\n",
      "127.0.0.1 - - [22/Jun/2022 23:38:05] \"GET /reg_model_bbc_url/https:_slash_forward__slash_forward_www.bbc.com_slash_forward_news_slash_forward_world-asia-61470748 HTTP/1.1\" 200 -\n"
     ]
    },
    {
     "name": "stdout",
     "output_type": "stream",
     "text": [
      "Hidden away in a residential neighbourhood is one of Afghanistan's new \"secret\" schools - a small but powerful act of defiance against the Taliban. Around a dozen teenage girls are attending a maths class. \"We know about the threats and we worry about them,\" the sole teacher tells us, but she adds, girls' education is worth \"any risk\". In all but a handful of provinces in the country, girls' secondary schools have been ordered to remain closed by the Taliban. At the school we visit, they've done an impressive job trying to replicate a real classroom, with rows of neat blue and white desks. \"We do our best to do this secretly,\" says the female teacher, \"but even if they arrest me, they beat me, it's worth it.\" Back in March, it seemed as if girls' schools were about to reopen. But just an hour or so after pupils began arriving, the Taliban leadership announced a sudden change in policy. For the students at the secret school, and many other teenage girls, the pain is still raw. \"It's been two months now, and still schools haven't reopened,\" one 19-year-old in the makeshift classroom told us. \"It makes me so sad,\" she added, covering her face with the palms of her hands to hold back the tears. But there's also a mood of defiance. Another 15-year-old student wanted to send a message to other girls in Afghanistan: \"Be brave, if you are brave no-one can stop you.\"  Primary schools for girls have reopened under the Taliban, and have in fact seen a rise in attendance following the improvement in security in rural parts of the country, but it's not clear when or if older girls will be allowed back into class. The Taliban have said the correct \"Islamic environment\" needs to be created first, though given schools were already segregated by gender, no-one seems sure what that means. Taliban officials have repeatedly insisted in public that girls schools will reopen, but also admit that female education is a \"sensitive\" issue for them. During their previous stint in power in the 1990s, all girls were prevented from going to school, ostensibly due to \"security concerns\". Now, multiple sources told the BBC, a handful of hardline but highly influential individuals in the group appear to still be opposed to it. In private, other Taliban members have expressed their disappointment at the decision not to open girls' schools. The Taliban's Ministry of Education seemed as surprised as anyone when the leadership overruled their plans in March, and some senior Taliban officials are understood to be educating their daughters in Qatar or Pakistan. In recent weeks, a number of religious scholars with links to the Taliban have issued fatwas, or religious decrees supporting girls' right to learn. Sheikh Rahimullah Haqqani is an Afghan cleric, based largely across the border in Peshawar, Pakistan. He's well-respected by the Taliban and on a trip to Kabul last month met senior figures within their government. He's careful not to criticise the continued closure of schools but, speaking at his madrassa in Peshawar, with his mobile phone in hand, scrolls through the text of his \"fatwa\", which shares decrees from earlier scholars and accounts from the life of the Prophet Muhammad.  \"There is no justification in the sharia [law] to say female education is not allowed. No justification at all,\" he tells the BBC. \"All the religious books have stated female education is permissible and obligatory, because, for example, if a woman gets sick, in an Islamic environment like Afghanistan or Pakistan, and needs treatment, it's much better if she's treated by a female doctor.\"  Similar fatwas have been issued by clerics in Herat and Paktia provinces in Afghanistan. It's a symbol of how widespread support for girls' education now is in the country, even amongst conservative circles, but it's not clear how much of an impact the decrees will have. The Taliban have formed a committee to examine the issue, but multiple sources with links to the Taliban told the BBC that while even senior Taliban ministers were on board with the reopening of girls schools in March, opposition to it centred around the group's leadership in the southern city of Kandahar, where the \"Amir\" or Supreme Leader, Mullah Haibatullah is based. After initially adopting a more flexible attitude when taking power last August, the Taliban have recently been issuing more and more hardline edicts, including making the face veil compulsory for women and encouraging them to stay at home. Meanwhile, their tolerance for dissent, even in their own ranks, is dissipating. One Taliban member with a large following on social media, had tweeted critically about the closure of girls' schools, as well as new rules ordering government employees to grow their beards. However, according to one source, he was called in for questioning by the Taliban intelligence department, later deleting his tweets and apologising for his earlier comments on beards. There appears to be very little grassroots opposition to female education in Afghanistan, but some Taliban figures cite concerns about the Islamic State group using the issue as a recruitment tool, if girls' schools are opened up. Western officials, however, have also made clear that progress on women's rights is key for the Taliban to be able to access some of the billions of dollars of foreign reserves that are frozen. Meanwhile, Afghan women's rights activists are trying to ensure a generation of girls aren't left behind. At the secret school we visited, they hold lessons for one or two hours per day, focused on maths, biology, chemistry and physics. The teacher in charge knows there are many other girls who would like to attend, but they're constrained by the lack of space and resources, as well as the need to remain below the radar. She's not hopeful about the prospect of regular schools opening up any time soon, but is determined to do what she can. \"As an educated woman, it's my duty,\" she tells the BBC. \"Education can save us from this darkness.\" \n"
     ]
    },
    {
     "name": "stderr",
     "output_type": "stream",
     "text": [
      "127.0.0.1 - - [22/Jun/2022 23:38:09] \"GET /reg_model_bbc_url/https:_slash_forward__slash_forward_www.bbc.com_slash_forward_news_slash_forward_world-asia-61470748 HTTP/1.1\" 200 -\n"
     ]
    },
    {
     "name": "stdout",
     "output_type": "stream",
     "text": [
      "Hidden away in a residential neighbourhood is one of Afghanistan's new \"secret\" schools - a small but powerful act of defiance against the Taliban. Around a dozen teenage girls are attending a maths class. \"We know about the threats and we worry about them,\" the sole teacher tells us, but she adds, girls' education is worth \"any risk\". In all but a handful of provinces in the country, girls' secondary schools have been ordered to remain closed by the Taliban. At the school we visit, they've done an impressive job trying to replicate a real classroom, with rows of neat blue and white desks. \"We do our best to do this secretly,\" says the female teacher, \"but even if they arrest me, they beat me, it's worth it.\" Back in March, it seemed as if girls' schools were about to reopen. But just an hour or so after pupils began arriving, the Taliban leadership announced a sudden change in policy. For the students at the secret school, and many other teenage girls, the pain is still raw. \"It's been two months now, and still schools haven't reopened,\" one 19-year-old in the makeshift classroom told us. \"It makes me so sad,\" she added, covering her face with the palms of her hands to hold back the tears. But there's also a mood of defiance. Another 15-year-old student wanted to send a message to other girls in Afghanistan: \"Be brave, if you are brave no-one can stop you.\"  Primary schools for girls have reopened under the Taliban, and have in fact seen a rise in attendance following the improvement in security in rural parts of the country, but it's not clear when or if older girls will be allowed back into class. The Taliban have said the correct \"Islamic environment\" needs to be created first, though given schools were already segregated by gender, no-one seems sure what that means. Taliban officials have repeatedly insisted in public that girls schools will reopen, but also admit that female education is a \"sensitive\" issue for them. During their previous stint in power in the 1990s, all girls were prevented from going to school, ostensibly due to \"security concerns\". Now, multiple sources told the BBC, a handful of hardline but highly influential individuals in the group appear to still be opposed to it. In private, other Taliban members have expressed their disappointment at the decision not to open girls' schools. The Taliban's Ministry of Education seemed as surprised as anyone when the leadership overruled their plans in March, and some senior Taliban officials are understood to be educating their daughters in Qatar or Pakistan. In recent weeks, a number of religious scholars with links to the Taliban have issued fatwas, or religious decrees supporting girls' right to learn. Sheikh Rahimullah Haqqani is an Afghan cleric, based largely across the border in Peshawar, Pakistan. He's well-respected by the Taliban and on a trip to Kabul last month met senior figures within their government. He's careful not to criticise the continued closure of schools but, speaking at his madrassa in Peshawar, with his mobile phone in hand, scrolls through the text of his \"fatwa\", which shares decrees from earlier scholars and accounts from the life of the Prophet Muhammad.  \"There is no justification in the sharia [law] to say female education is not allowed. No justification at all,\" he tells the BBC. \"All the religious books have stated female education is permissible and obligatory, because, for example, if a woman gets sick, in an Islamic environment like Afghanistan or Pakistan, and needs treatment, it's much better if she's treated by a female doctor.\"  Similar fatwas have been issued by clerics in Herat and Paktia provinces in Afghanistan. It's a symbol of how widespread support for girls' education now is in the country, even amongst conservative circles, but it's not clear how much of an impact the decrees will have. The Taliban have formed a committee to examine the issue, but multiple sources with links to the Taliban told the BBC that while even senior Taliban ministers were on board with the reopening of girls schools in March, opposition to it centred around the group's leadership in the southern city of Kandahar, where the \"Amir\" or Supreme Leader, Mullah Haibatullah is based. After initially adopting a more flexible attitude when taking power last August, the Taliban have recently been issuing more and more hardline edicts, including making the face veil compulsory for women and encouraging them to stay at home. Meanwhile, their tolerance for dissent, even in their own ranks, is dissipating. One Taliban member with a large following on social media, had tweeted critically about the closure of girls' schools, as well as new rules ordering government employees to grow their beards. However, according to one source, he was called in for questioning by the Taliban intelligence department, later deleting his tweets and apologising for his earlier comments on beards. There appears to be very little grassroots opposition to female education in Afghanistan, but some Taliban figures cite concerns about the Islamic State group using the issue as a recruitment tool, if girls' schools are opened up. Western officials, however, have also made clear that progress on women's rights is key for the Taliban to be able to access some of the billions of dollars of foreign reserves that are frozen. Meanwhile, Afghan women's rights activists are trying to ensure a generation of girls aren't left behind. At the secret school we visited, they hold lessons for one or two hours per day, focused on maths, biology, chemistry and physics. The teacher in charge knows there are many other girls who would like to attend, but they're constrained by the lack of space and resources, as well as the need to remain below the radar. She's not hopeful about the prospect of regular schools opening up any time soon, but is determined to do what she can. \"As an educated woman, it's my duty,\" she tells the BBC. \"Education can save us from this darkness.\" \n"
     ]
    }
   ],
   "source": [
    "from flask import  Flask\n",
    "from flask import render_template\n",
    "\n",
    "app = Flask('my__webapp')\n",
    "\n",
    "def fn_select_proba(value=\"True\"):\n",
    "    if value == \"Fake\":\n",
    "        return 0\n",
    "    else:\n",
    "        return 1\n",
    "\n",
    "@app.route('/reg_model/<text>', methods=['GET'])\n",
    "def mi_modelo(text):\n",
    "    # Lectura del modelo\n",
    "    with open('fakenews_count_vectorizer.pkl', 'rb') as f_model:\n",
    "            count_vectorizer_t = pickle.load(f_model)\n",
    "\n",
    "    with open('fakenews_tfidft.pkl', 'rb') as f_model:\n",
    "            tfidft_t = pickle.load(f_model)\n",
    "\n",
    "    with open('fakenews_model.pkl', 'rb') as f_model:\n",
    "            model_reg_t = pickle.load(f_model)\n",
    "\n",
    "    text_df = pd.Series(data = text)\n",
    "    p1 = count_vectorizer_t.transform(text_df)\n",
    "    p2 = tfidft_t.transform(p1)\n",
    "\n",
    "    result = {\"predict\": model_reg_t.predict(p2)[0]}\n",
    "    result_proba = {\"predict\": np.round(model_reg_t.predict_proba(p2),2)}\n",
    "    \n",
    "    return render_template('predict_page.html', predict=result[\"predict\"] , predict_proba=result_proba[\"predict\"][0])  \n",
    "\n",
    "@app.route('/reg_model_bbc_url/<text>', methods=['GET'])\n",
    "def mi_modelo_from_url_bbc(text):\n",
    "    # Lectura del modelo\n",
    "    with open('fakenews_count_vectorizer.pkl', 'rb') as f_model:\n",
    "            count_vectorizer_t = pickle.load(f_model)\n",
    "\n",
    "    with open('fakenews_tfidft.pkl', 'rb') as f_model:\n",
    "            tfidft_t = pickle.load(f_model)\n",
    "\n",
    "    with open('fakenews_model.pkl', 'rb') as f_model:\n",
    "            model_reg_t = pickle.load(f_model)\n",
    "    \n",
    "    url_test = text.replace(\"_slash_forward_\", \"/\")\n",
    "    text_news = get_text_from_url_bbc(url_test)\n",
    "    print(text_news)\n",
    "    text_df = pd.Series(data = text_news)\n",
    "    p1 = count_vectorizer_t.transform(text_df)\n",
    "    p2 = tfidft_t.transform(p1)\n",
    "\n",
    "    result = {\"predict\": model_reg_t.predict(p2)[0]}\n",
    "    result_proba = {\"predict\": np.round(model_reg_t.predict_proba(p2),2)}\n",
    "    \n",
    "    return render_template('predict_page.html', predict=result[\"predict\"] , predict_proba=result_proba[\"predict\"][0], text_news_js = text_news)\n",
    "\n",
    "@app.route('/reg_model/', methods=['GET'])\n",
    "def home():\n",
    "    return render_template('home.html')      \n",
    "\n",
    "@app.route(\"/test\", methods=['GET'])\n",
    "def hello():\n",
    "    alive = \"La app está viva\"\n",
    "    return alive\n",
    "\n",
    "\n",
    "app.run(host='0.0.0.0', port = 5017)"
   ]
  },
  {
   "cell_type": "markdown",
   "metadata": {
    "slideshow": {
     "slide_type": "fragment"
    }
   },
   "source": [
    "Abrimos en un browser esta url (GET)\n",
    "\n",
    "http://localhost:5017/test\n",
    "\n",
    "\n",
    "http://localhost:5017/reg_model/  + TEXTO\n",
    "\n",
    "http://localhost:5017/test2\n",
    "\n"
   ]
  }
 ],
 "metadata": {
  "kernelspec": {
   "display_name": "Python 3 (ipykernel)",
   "language": "python",
   "name": "python3"
  },
  "language_info": {
   "codemirror_mode": {
    "name": "ipython",
    "version": 3
   },
   "file_extension": ".py",
   "mimetype": "text/x-python",
   "name": "python",
   "nbconvert_exporter": "python",
   "pygments_lexer": "ipython3",
   "version": "3.8.12"
  },
  "vscode": {
   "interpreter": {
    "hash": "74982be50d16a325e7a696431edcd43fb197854e885357b6201d1f1507f4b7f3"
   }
  }
 },
 "nbformat": 4,
 "nbformat_minor": 4
}
