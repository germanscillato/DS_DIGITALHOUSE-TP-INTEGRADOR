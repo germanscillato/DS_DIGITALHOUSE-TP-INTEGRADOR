{
 "cells": [
  {
   "cell_type": "markdown",
   "metadata": {},
   "source": [
    "# APLICACION WEB - DETECTOR DE FAKENEWS\n",
    "\n",
    "Modo de ejecución:\n",
    "- Verificar correctamente los requerimientos en \"requirimients.txt\"\n",
    "- Correr Celda de codigo\n",
    "- Ejecutar Links en ultima celda"
   ]
  },
  {
   "cell_type": "code",
   "execution_count": 4,
   "metadata": {},
   "outputs": [
    {
     "name": "stdout",
     "output_type": "stream",
     "text": [
      " * Serving Flask app 'my_webapp' (lazy loading)\n",
      " * Environment: production\n",
      "\u001b[31m   WARNING: This is a development server. Do not use it in a production deployment.\u001b[0m\n",
      "\u001b[2m   Use a production WSGI server instead.\u001b[0m\n",
      " * Debug mode: off\n"
     ]
    },
    {
     "name": "stderr",
     "output_type": "stream",
     "text": [
      " * Running on all addresses (0.0.0.0)\n",
      "   WARNING: This is a development server. Do not use it in a production deployment.\n",
      " * Running on http://127.0.0.1:5017\n",
      " * Running on http://192.168.1.15:5017 (Press CTRL+C to quit)\n",
      "127.0.0.1 - - [27/Jun/2022 21:31:56] \"GET /reg_model/ HTTP/1.1\" 200 -\n",
      "127.0.0.1 - - [27/Jun/2022 21:32:04] \"GET /reg_model/trump%20donald%20vac HTTP/1.1\" 200 -\n"
     ]
    }
   ],
   "source": [
    "from flask import Flask\n",
    "from flask import render_template\n",
    "from utils import *\n",
    "\n",
    "app = Flask('my_webapp')\n",
    "\n",
    "@app.route('/reg_model/<text>', methods=['GET'])\n",
    "def mi_modelo(text):\n",
    "    # Lectura del modelo\n",
    "    with open('./pickle_model/fakenews_model.pkl', 'rb') as f_model:\n",
    "        fakenews_model = pickle.load(f_model)\n",
    "\n",
    "\n",
    "    text_df = pd.Series(data = text)\n",
    "\n",
    "    result = {\"predict\": fakenews_model.predict(text_df)[0]}\n",
    "    result_proba = {\"predict\": np.round(fakenews_model.predict_proba(text_df),2)}\n",
    "    \n",
    "    return render_template('predict_page.html', predict=result[\"predict\"] ,\n",
    "     predict_proba=result_proba[\"predict\"][0])  \n",
    "\n",
    "@app.route('/reg_model/', methods=['GET'])\n",
    "def home():\n",
    "    return render_template('home.html')      \n",
    "\n",
    "@app.route(\"/test\", methods=['GET'])\n",
    "def hello():\n",
    "    alive = \"La app está viva\"\n",
    "    return alive\n",
    "\n",
    "@app.route('/reg_model_bbc_url/<text>', methods=['GET'])\n",
    "def mi_modelo_from_url_bbc(text):\n",
    "    # Lectura del modelo\n",
    "    with open('./pickle_model/fakenews_model.pkl', 'rb') as f_model:\n",
    "        fakenews_model = pickle.load(f_model)\n",
    "\n",
    "    url_test = text.replace(\"_slash_forward_\", \"/\")\n",
    "    text_news = get_text_from_url_bbc(url_test)\n",
    "    text_df = pd.Series(data = text)\n",
    "    \n",
    "    result = {\"predict\": fakenews_model.predict(text_df)[0]}\n",
    "    result_proba = {\"predict\": np.round(fakenews_model.predict_proba(text_df),2)}\n",
    "    \n",
    "    \n",
    "    return render_template('predict_page.html', predict=result[\"predict\"] , predict_proba=result_proba[\"predict\"][0], text_news_js = text_news)\n",
    "\n",
    "app.run(host='0.0.0.0', port = 5017)"
   ]
  },
  {
   "cell_type": "markdown",
   "metadata": {},
   "source": [
    "Probamos si la App está corriendo correctamente:\n",
    "[Test Web App](http://localhost:5017/test)\n",
    "\n",
    "Abrimos en un navegador de Internet el sitio con el modelo ya entrenado:\n",
    "[Sitio Web detector de noticias falsas](http://localhost:5017/reg_model/)"
   ]
  }
 ],
 "metadata": {
  "kernelspec": {
   "display_name": "Python 3.9.1 ('fakenews': venv)",
   "language": "python",
   "name": "python3"
  },
  "language_info": {
   "codemirror_mode": {
    "name": "ipython",
    "version": 3
   },
   "file_extension": ".py",
   "mimetype": "text/x-python",
   "name": "python",
   "nbconvert_exporter": "python",
   "pygments_lexer": "ipython3",
   "version": "3.9.1"
  },
  "orig_nbformat": 4,
  "vscode": {
   "interpreter": {
    "hash": "74982be50d16a325e7a696431edcd43fb197854e885357b6201d1f1507f4b7f3"
   }
  }
 },
 "nbformat": 4,
 "nbformat_minor": 2
}
